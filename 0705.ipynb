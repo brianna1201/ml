{
 "cells": [
  {
   "cell_type": "code",
   "execution_count": 1,
   "id": "fa0446f2",
   "metadata": {
    "ExecuteTime": {
     "end_time": "2022-07-05T02:38:59.566666Z",
     "start_time": "2022-07-05T02:38:51.425314Z"
    }
   },
   "outputs": [
    {
     "name": "stdout",
     "output_type": "stream",
     "text": [
      "GBM정확도 :0.9666666666666667\n"
     ]
    }
   ],
   "source": [
    "from sklearn.ensemble import GradientBoostingClassifier\n",
    "from sklearn.datasets import load_iris\n",
    "from sklearn.model_selection import train_test_split\n",
    "from sklearn.metrics import accuracy_score\n",
    "\n",
    "\n",
    "iris = load_iris()\n",
    "\n",
    "X_train, X_test, y_train, y_test = train_test_split(iris.data, iris.target,\n",
    "                                        test_size=0.2, random_state=12)\n",
    "\n",
    "gb_clf = GradientBoostingClassifier(random_state = 0)\n",
    "gb_clf.fit(X_train,y_train)\n",
    "gb_pred = gb_clf.predict(X_test)\n",
    "gb_accuracy = accuracy_score(y_test, gb_pred)\n",
    "\n",
    "print(f'GBM정확도 :{gb_accuracy}')"
   ]
  },
  {
   "cell_type": "code",
   "execution_count": 2,
   "id": "b37e58ba",
   "metadata": {
    "ExecuteTime": {
     "end_time": "2022-07-05T02:39:23.188690Z",
     "start_time": "2022-07-05T02:38:59.572652Z"
    }
   },
   "outputs": [
    {
     "name": "stdout",
     "output_type": "stream",
     "text": [
      "Fitting 2 folds for each of 4 candidates, totalling 8 fits\n",
      "최적 하이퍼 파라미터:\n",
      "{'learning_rate': 0.05, 'n_estimators': 100}\n",
      "최고 예측 정확도 : 0.925\n"
     ]
    }
   ],
   "source": [
    "from sklearn.model_selection import GridSearchCV\n",
    "params = {\n",
    "    'n_estimators':[100,500],\n",
    "    'learning_rate':[0.05, 0.1]\n",
    "}\n",
    "grid_cv = GridSearchCV(gb_clf , param_grid=params, cv=2, verbose=1)\n",
    "grid_cv.fit(X_train, y_train)\n",
    "print(f'최적 하이퍼 파라미터:\\n{grid_cv.best_params_}')\n",
    "print(f'최고 예측 정확도 : {grid_cv.best_score_}')"
   ]
  },
  {
   "cell_type": "code",
   "execution_count": 3,
   "id": "4a799675",
   "metadata": {
    "ExecuteTime": {
     "end_time": "2022-07-05T02:39:23.218660Z",
     "start_time": "2022-07-05T02:39:23.194764Z"
    }
   },
   "outputs": [
    {
     "name": "stdout",
     "output_type": "stream",
     "text": [
      "0.9666666666666667\n"
     ]
    }
   ],
   "source": [
    "pred = grid_cv.predict(X_test)\n",
    "acc = accuracy_score(pred,y_test)\n",
    "print(acc)"
   ]
  },
  {
   "cell_type": "code",
   "execution_count": 4,
   "id": "dcb41d70",
   "metadata": {
    "ExecuteTime": {
     "end_time": "2022-07-05T02:39:23.250692Z",
     "start_time": "2022-07-05T02:39:23.227754Z"
    }
   },
   "outputs": [
    {
     "name": "stdout",
     "output_type": "stream",
     "text": [
      "0.9666666666666667\n"
     ]
    }
   ],
   "source": [
    "pred = grid_cv.best_estimator_.predict(X_test)\n",
    "acc = accuracy_score(pred,y_test)\n",
    "print(acc)"
   ]
  },
  {
   "cell_type": "code",
   "execution_count": 5,
   "id": "426ecac4",
   "metadata": {
    "ExecuteTime": {
     "end_time": "2022-07-05T02:39:26.189620Z",
     "start_time": "2022-07-05T02:39:23.256682Z"
    }
   },
   "outputs": [
    {
     "name": "stdout",
     "output_type": "stream",
     "text": [
      "0.9666666666666667\n"
     ]
    }
   ],
   "source": [
    "import xgboost as xgb\n",
    "from xgboost import XGBClassifier\n",
    "\n",
    "# Extreme Gradient Boosting (xgboost) 모델 사용\n",
    "\n",
    "# 1. 모델 선언\n",
    "xgb  = XGBClassifier()\n",
    "\n",
    "# 2. 모델 훈련 fit()함수\n",
    "xgb.fit(X_train, y_train)\n",
    "\n",
    "# 3. 모델 예측 predict()함수\n",
    "Y_pred = xgb.predict(X_test)\n",
    "\n",
    "# # 4. score()\n",
    "# xgb.score(Y_pred, y_train)\n",
    "acc = accuracy_score(Y_pred,y_test)\n",
    "print(acc)"
   ]
  },
  {
   "cell_type": "code",
   "execution_count": null,
   "id": "976246e0",
   "metadata": {},
   "outputs": [],
   "source": []
  }
 ],
 "metadata": {
  "kernelspec": {
   "display_name": "Python 3 (ipykernel)",
   "language": "python",
   "name": "python3"
  },
  "language_info": {
   "codemirror_mode": {
    "name": "ipython",
    "version": 3
   },
   "file_extension": ".py",
   "mimetype": "text/x-python",
   "name": "python",
   "nbconvert_exporter": "python",
   "pygments_lexer": "ipython3",
   "version": "3.9.7"
  },
  "toc": {
   "base_numbering": 1,
   "nav_menu": {},
   "number_sections": true,
   "sideBar": true,
   "skip_h1_title": false,
   "title_cell": "Table of Contents",
   "title_sidebar": "Contents",
   "toc_cell": false,
   "toc_position": {},
   "toc_section_display": true,
   "toc_window_display": false
  }
 },
 "nbformat": 4,
 "nbformat_minor": 5
}
